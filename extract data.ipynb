{
 "cells": [
  {
   "cell_type": "code",
   "execution_count": null,
   "metadata": {},
   "outputs": [],
   "source": [
    "import zipfile\n",
    "import os\n",
    "import shutil"
   ]
  },
  {
   "cell_type": "markdown",
   "metadata": {},
   "source": [
    "### Download data on CHTC\n",
    "We have already downloaded the data from FBI website one by one and uploaded it to Dropbox. Now you can use wget to download these datasets by following steps."
   ]
  },
  {
   "cell_type": "markdown",
   "metadata": {},
   "source": [
    "Download 2021 data:(on linux)  \n",
    "wget https://www.dropbox.com/scl/fi/aonflekymr3hrykonuet1/2021.zip?rlkey=ilr40suqetnl6p03t83ucv07c&st=nqa4d4zf&dl=0"
   ]
  },
  {
   "cell_type": "markdown",
   "metadata": {},
   "source": [
    "Download 2022 data:(on linux)  \n",
    "wget https://www.dropbox.com/scl/fi/ktckcrs5cvs59eyln20vp/2022.zip?rlkey=h5epq22m3qrfw381hj6nliemt&st=r103hzzx&dl=0"
   ]
  },
  {
   "cell_type": "markdown",
   "metadata": {},
   "source": [
    "Download 2023 data:(on linux)  \n",
    "wget https://www.dropbox.com/scl/fi/xeks8n26h2wdcek8kjgcf/2023.zip?rlkey=o5owknpkeaet83qutw51ypso7&st=zpgo3o1m&dl=0"
   ]
  },
  {
   "cell_type": "markdown",
   "metadata": {},
   "source": [
    "Extract the data with:  \n",
    "uzip 'FILE_NAME'"
   ]
  },
  {
   "cell_type": "markdown",
   "metadata": {},
   "source": [
    "### Delete all the files without the type of .csv（Run this）"
   ]
  },
  {
   "cell_type": "code",
   "execution_count": null,
   "metadata": {},
   "outputs": [],
   "source": [
    "base_folder = r'.'\n",
    "years = ['2021', '2022', '2023']\n",
    "\n",
    "for year in years:\n",
    "    year_folder_path = os.path.join(base_folder, year)\n",
    "    \n",
    "    # Read second folder\n",
    "    for folder_name in os.listdir(year_folder_path):\n",
    "        folder_path = os.path.join(year_folder_path, folder_name)\n",
    "        \n",
    "        if os.path.isdir(folder_path):\n",
    "            # Read second and third folder\n",
    "            for item_name in os.listdir(folder_path):\n",
    "                item_path = os.path.join(folder_path, item_name)\n",
    "                \n",
    "                # Delete files not .csv\n",
    "                if os.path.isfile(item_path) and not item_name.endswith('.csv'):\n",
    "                    os.remove(item_path)\n",
    "                    print(f\"Deleted: {item_path}\")\n",
    "                \n",
    "                # If it has third folder\n",
    "                elif os.path.isdir(item_path):\n",
    "                    for file_name in os.listdir(item_path):\n",
    "                        file_path = os.path.join(item_path, file_name)\n",
    "                        \n",
    "                        # Move the files to the second folder\n",
    "                        if os.path.isfile(file_path):\n",
    "                            if not file_name.endswith('.csv'):\n",
    "                                os.remove(file_path)\n",
    "                                print(f\"Deleted: {file_path}\")\n",
    "                            else:\n",
    "                                shutil.move(file_path, folder_path)\n",
    "                                print(f\"Moved {file_path} to {folder_path}\")\n",
    "                    \n",
    "                    # delete third folder\n",
    "                    os.rmdir(item_path)\n",
    "                    print(f\"Deleted: {item_path}\")\n",
    "\n",
    "print(\"File cleaning finished.\")\n"
   ]
  },
  {
   "cell_type": "markdown",
   "metadata": {},
   "source": [
    " Check the folder names and change them to XX-2023"
   ]
  },
  {
   "cell_type": "code",
   "execution_count": null,
   "metadata": {},
   "outputs": [],
   "source": [
    "main_folder_path = r'.\\2023'\n",
    "\n",
    "for folder_name in os.listdir(main_folder_path):\n",
    "    folder_path = os.path.join(main_folder_path, folder_name)\n",
    "    \n",
    "    # Check the name of each folder\n",
    "    if os.path.isdir(folder_path) and not folder_name.endswith('-2023'):\n",
    "        # Add \"-2023\" to folders without it\n",
    "        new_folder_name = folder_name + '-2023'\n",
    "        new_folder_path = os.path.join(main_folder_path, new_folder_name)\n",
    "        \n",
    "        # Rename the folders\n",
    "        os.rename(folder_path, new_folder_path)\n",
    "        print(f\"Renamed {folder_name} to {new_folder_name}\")\n",
    "\n",
    "print(\"Rename finished.\")\n"
   ]
  }
 ],
 "metadata": {
  "kernelspec": {
   "display_name": "base",
   "language": "python",
   "name": "python3"
  },
  "language_info": {
   "codemirror_mode": {
    "name": "ipython",
    "version": 3
   },
   "file_extension": ".py",
   "mimetype": "text/x-python",
   "name": "python",
   "nbconvert_exporter": "python",
   "pygments_lexer": "ipython3",
   "version": "3.12.4"
  }
 },
 "nbformat": 4,
 "nbformat_minor": 2
}
